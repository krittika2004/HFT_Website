{
 "cells": [
  {
   "cell_type": "code",
   "execution_count": null,
   "metadata": {},
   "outputs": [],
   "source": [
    "# Fetch new data for a specific period\n",
    "new_data = yf.download(symbol, start='2020-01-01', end='2022-11-16')\n",
    "\n",
    "# Calculate technical indicators for the new data\n",
    "new_data['SMA_50'] = new_data['Close'].rolling(window=50).mean()\n",
    "new_data['SMA_200'] = new_data['Close'].rolling(window=200).mean()\n",
    "new_data.dropna(inplace=True)\n",
    "\n",
    "# Define features for prediction\n",
    "new_features = ['SMA_50', 'SMA_200']\n",
    "X_new = new_data[new_features]\n",
    "\n",
    "# Make predictions on new data\n",
    "new_predictions = rf_classifier.predict(X_new)\n",
    "\n",
    "# Apply predictions to determine trade signals\n",
    "new_data['Predicted_Signal'] = new_predictions\n",
    "\n",
    "# Simulate trades based on predicted signals\n",
    "# For simplicity, this example assumes a 'buy' signal (1) triggers a long position and a 'sell' signal (0) closes the position\n",
    "position = 0  # Initial position: 0 indicates no position\n",
    "for index, row in new_data.iterrows():\n",
    "    if row['Predicted_Signal'] == 1 and position == 0:  # Buy signal\n",
    "        position = 1  # Enter long position\n",
    "        print(f\"Buying at {row['Close']} on {index}\")\n",
    "    elif row['Predicted_Signal'] == 0 and position == 1:  # Sell signal\n",
    "        position = 0  # Close position\n",
    "        print(f\"Selling at {row['Close']} on {index}\")"
   ]
  }
 ],
 "metadata": {
  "language_info": {
   "name": "python"
  }
 },
 "nbformat": 4,
 "nbformat_minor": 2
}
