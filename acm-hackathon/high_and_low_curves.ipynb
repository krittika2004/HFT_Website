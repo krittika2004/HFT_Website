{
 "cells": [
  {
   "cell_type": "code",
   "execution_count": null,
   "metadata": {},
   "outputs": [],
   "source": [
    "import requests\n",
    "import matplotlib.pyplot as plt\n",
    "\n",
    "headers = {\n",
    "    'Content-Type': 'application/json'\n",
    "}\n",
    "\n",
    "# Take user input for the stock symbol\n",
    "symbol = input(\"Enter the stock symbol (e.g., AAPL): \")\n",
    "\n",
    "# Construct the API URL with the user-provided symbol\n",
    "url = f\"https://api.tiingo.com/tiingo/daily/{symbol}/prices?startDate=2023-10-16&token=32ebb78a8b18b28f3d54fd9a1950aff3f8369bd2\"\n",
    "\n",
    "# Make a GET request to fetch the data\n",
    "response = requests.get(url, headers=headers)\n",
    "\n",
    "if response.status_code == 200:\n",
    "    # Parse the JSON response\n",
    "    data = response.json()\n",
    "\n",
    "    # Extract 'high' and 'low' prices and timestamps\n",
    "    timestamps = [entry['date'] for entry in data]\n",
    "    highs = [entry['high'] for entry in data]\n",
    "    lows = [entry['low'] for entry in data]\n",
    "\n",
    "    # Plotting the stock market graph with high and low prices\n",
    "    plt.figure(figsize=(10, 6))\n",
    "    plt.plot(timestamps, highs, label='High Price', color='green')\n",
    "    plt.plot(timestamps, lows, label='Low Price', color='red')\n",
    "    plt.xlabel('Date')\n",
    "    plt.ylabel('Stock Price')\n",
    "    plt.title(f'High and Low Prices of {symbol.upper()} Stock')\n",
    "    plt.legend()\n",
    "    plt.xticks(rotation=45)\n",
    "    plt.tight_layout()\n",
    "    plt.show()\n",
    "else:\n",
    "    print('Failed to fetch data. Check your API request.')"
   ]
  }
 ],
 "metadata": {
  "language_info": {
   "name": "python"
  }
 },
 "nbformat": 4,
 "nbformat_minor": 2
}
