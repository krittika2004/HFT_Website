{
 "cells": [
  {
   "cell_type": "code",
   "execution_count": null,
   "metadata": {},
   "outputs": [],
   "source": [
    "import backtrader as bt\n",
    "import yfinance as yf\n",
    "\n",
    "\n",
    "symbol1 = input('Enter Company Symbol:')\n",
    "symbol2 = input('Enter start date in xx-yy-zz format : ')\n",
    "symbol3 = input('Enter End Date: ')\n",
    "# Define a simple moving average crossover strategy\n",
    "class SMACross(bt.Strategy):\n",
    "    params = (\n",
    "        ('fast', 10),\n",
    "        ('slow', 30),\n",
    "    )\n",
    "\n",
    "    def _init_(self):\n",
    "        self.fast_sma = bt.indicators.SimpleMovingAverage(self.data.close, period=self.params.fast)\n",
    "        self.slow_sma = bt.indicators.SimpleMovingAverage(self.data.close, period=self.params.slow)\n",
    "        self.crossover = bt.indicators.CrossOver(self.fast_sma, self.slow_sma)\n",
    "\n",
    "    def next(self):\n",
    "        if self.crossover > 0:\n",
    "            self.buy()\n",
    "        elif self.crossover < 0:\n",
    "            self.sell()\n",
    "\n",
    "# Fetch historical data using yfinance for a specific stock (e.g., AAPL)\n",
    "data = yf.download(symbol1, symbol2, symbol3)\n",
    "\n",
    "# Create a cerebro engine\n",
    "cerebro = bt.Cerebro()\n",
    "\n",
    "# Add the data to the cerebro engine\n",
    "data_feed = bt.feeds.PandasData(dataname=data)\n",
    "cerebro.adddata(data_feed)\n",
    "\n",
    "# Add the strategy to the cerebro engine\n",
    "cerebro.addstrategy(SMACross)\n",
    "\n",
    "# Set starting cash\n",
    "cerebro.broker.setcash(10000)\n",
    "\n",
    "# Run the strategy\n",
    "cerebro.run()\n",
    "\n",
    "# Print the final portfolio value\n",
    "print('Final Portfolio Value: %.2f' % cerebro.broker.getvalue())"
   ]
  }
 ],
 "metadata": {
  "language_info": {
   "name": "python"
  }
 },
 "nbformat": 4,
 "nbformat_minor": 2
}
